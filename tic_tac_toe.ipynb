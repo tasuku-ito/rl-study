{
  "nbformat": 4,
  "nbformat_minor": 0,
  "metadata": {
    "colab": {
      "name": "tic-tac-toe.ipynb",
      "provenance": [],
      "include_colab_link": true
    },
    "kernelspec": {
      "name": "python3",
      "display_name": "Python 3"
    }
  },
  "cells": [
    {
      "cell_type": "markdown",
      "metadata": {
        "id": "view-in-github",
        "colab_type": "text"
      },
      "source": [
        "<a href=\"https://colab.research.google.com/github/tasuku-ito/rl-study/blob/master/tic_tac_toe.ipynb\" target=\"_parent\"><img src=\"https://colab.research.google.com/assets/colab-badge.svg\" alt=\"Open In Colab\"/></a>"
      ]
    },
    {
      "cell_type": "code",
      "metadata": {
        "id": "RHPglyqm1flH",
        "colab_type": "code",
        "outputId": "f114e2e9-d06d-4919-a5ed-8e8c2194c1f3",
        "colab": {
          "base_uri": "https://localhost:8080/",
          "height": 34
        }
      },
      "source": [
        "import sys\n",
        "import os\n",
        "print(os.path)"
      ],
      "execution_count": 0,
      "outputs": [
        {
          "output_type": "stream",
          "text": [
            "<module 'posixpath' from '/usr/lib/python3.6/posixpath.py'>\n"
          ],
          "name": "stdout"
        }
      ]
    },
    {
      "cell_type": "code",
      "metadata": {
        "id": "0mJYNMdl58jK",
        "colab_type": "code",
        "colab": {}
      },
      "source": [
        "class ReinforcementLerning:\n",
        "    def __init__(self, states, actions):\n",
        "        self.states = omit_dimension(states)\n",
        "        self.actions = omit_dimension(actions)\n",
        "\n",
        "    def omit_dimension(self, arrays):\n",
        "        if not isinstance(arrays[0], list):\n",
        "            return arrays\n",
        "\n",
        "        res = []\n",
        "        for array in arrays:\n",
        "            res.extend(array)\n",
        "\n",
        "        return omit_dimension(self, res)\n",
        "    \n",
        "    def "
      ],
      "execution_count": 0,
      "outputs": []
    }
  ]
}